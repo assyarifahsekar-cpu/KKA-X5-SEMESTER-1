{
  "nbformat": 4,
  "nbformat_minor": 0,
  "metadata": {
    "colab": {
      "provenance": [],
      "toc_visible": true,
      "include_colab_link": true
    },
    "kernelspec": {
      "name": "python3",
      "display_name": "Python 3"
    },
    "language_info": {
      "name": "python"
    }
  },
  "cells": [
    {
      "cell_type": "markdown",
      "metadata": {
        "id": "view-in-github",
        "colab_type": "text"
      },
      "source": [
        "<a href=\"https://colab.research.google.com/github/assyarifahsekar-cpu/KKA-X5-SEMESTER-1/blob/main/print_assyarifah_swa_x_5.ipynb\" target=\"_parent\"><img src=\"https://colab.research.google.com/assets/colab-badge.svg\" alt=\"Open In Colab\"/></a>"
      ]
    },
    {
      "cell_type": "code",
      "execution_count": null,
      "metadata": {
        "id": "KYsrfF7BfwD-"
      },
      "outputs": [],
      "source": []
    },
    {
      "cell_type": "markdown",
      "source": [
        "#1.menampilkan teks bebas"
      ],
      "metadata": {
        "id": "T5dusuVCgHKA"
      }
    },
    {
      "cell_type": "markdown",
      "source": [],
      "metadata": {
        "id": "kge0rDfEkBeJ"
      }
    },
    {
      "cell_type": "code",
      "source": [
        "print(\"Hello world!\")"
      ],
      "metadata": {
        "id": "KEjtT4fzhcrU",
        "colab": {
          "base_uri": "https://localhost:8080/"
        },
        "outputId": "0012cbbc-4b8d-42c7-ea5c-4f90da8659f8"
      },
      "execution_count": null,
      "outputs": [
        {
          "output_type": "stream",
          "name": "stdout",
          "text": [
            "Hello world!\n"
          ]
        }
      ]
    },
    {
      "cell_type": "code",
      "source": [
        "print(\"Assyarifah sekar wahyu azkya\")"
      ],
      "metadata": {
        "colab": {
          "base_uri": "https://localhost:8080/"
        },
        "id": "76UAT87NikYk",
        "outputId": "e809466c-9801-468a-9110-b1601240b883"
      },
      "execution_count": null,
      "outputs": [
        {
          "output_type": "stream",
          "name": "stdout",
          "text": [
            "Assyarifah sekar wahyu azkya\n"
          ]
        }
      ]
    },
    {
      "cell_type": "code",
      "source": [],
      "metadata": {
        "id": "MRPWfEQbM_AX"
      },
      "execution_count": null,
      "outputs": []
    },
    {
      "cell_type": "markdown",
      "source": [
        "#2.menampilkan nilai variabel"
      ],
      "metadata": {
        "id": "0eDDhV_NkDXh"
      }
    },
    {
      "cell_type": "code",
      "source": [],
      "metadata": {
        "id": "kRTsW0dag_Eb"
      },
      "execution_count": null,
      "outputs": []
    },
    {
      "cell_type": "code",
      "source": [],
      "metadata": {
        "id": "RweuHahXNw3X"
      },
      "execution_count": null,
      "outputs": []
    },
    {
      "cell_type": "code",
      "source": [
        "beratbadan = 45\n",
        "\n",
        "print(beratbadan)"
      ],
      "metadata": {
        "colab": {
          "base_uri": "https://localhost:8080/"
        },
        "id": "obJT7UZflJQQ",
        "outputId": "00432e71-35a2-4f04-a8ea-15ae548fb18a"
      },
      "execution_count": null,
      "outputs": [
        {
          "output_type": "stream",
          "name": "stdout",
          "text": [
            "45\n"
          ]
        }
      ]
    },
    {
      "cell_type": "code",
      "source": [],
      "metadata": {
        "id": "6KPyVGI5glna"
      },
      "execution_count": null,
      "outputs": []
    },
    {
      "cell_type": "code",
      "source": [
        "tinggibadan = 190\n",
        "\n",
        "print(tinggibadan)"
      ],
      "metadata": {
        "colab": {
          "base_uri": "https://localhost:8080/"
        },
        "id": "y7YNPh0dmnno",
        "outputId": "680103b4-be74-4732-b1f9-07dbe69996dd"
      },
      "execution_count": null,
      "outputs": [
        {
          "output_type": "stream",
          "name": "stdout",
          "text": [
            "190\n"
          ]
        }
      ]
    },
    {
      "cell_type": "code",
      "source": [
        "nama = \"assyarifah sekar wahyu azkya\"\n",
        "\n",
        "print(nama)"
      ],
      "metadata": {
        "colab": {
          "base_uri": "https://localhost:8080/"
        },
        "id": "oPly39WFnM-Y",
        "outputId": "43d78886-4138-46ab-a284-6adddbd664f9"
      },
      "execution_count": null,
      "outputs": [
        {
          "output_type": "stream",
          "name": "stdout",
          "text": [
            "assyarifah sekar wahyu azkya\n"
          ]
        }
      ]
    },
    {
      "cell_type": "code",
      "source": [
        "namaidola  = \"niken salindri\"\n",
        "\n",
        "print(namaidola)"
      ],
      "metadata": {
        "colab": {
          "base_uri": "https://localhost:8080/"
        },
        "id": "WTOOdiGLnh93",
        "outputId": "9c58d3a6-bb3e-4799-c70c-32182458a75b"
      },
      "execution_count": null,
      "outputs": [
        {
          "output_type": "stream",
          "name": "stdout",
          "text": [
            "niken salindri\n"
          ]
        }
      ]
    },
    {
      "cell_type": "code",
      "source": [],
      "metadata": {
        "id": "-1p4E0POnrqJ"
      },
      "execution_count": null,
      "outputs": []
    },
    {
      "cell_type": "markdown",
      "source": [
        "#3 menampilkan teks bebas dan nilai variabel"
      ],
      "metadata": {
        "id": "bEDcE5XNkHp-"
      }
    },
    {
      "cell_type": "code",
      "source": [
        "print(\"Halo nama saya\", nama,\". berat badan saya\",beratbadan,\"kg.\")"
      ],
      "metadata": {
        "colab": {
          "base_uri": "https://localhost:8080/"
        },
        "id": "5xPvsSeKkWZ4",
        "outputId": "b73f07fc-49e2-42c9-952c-5fe5b41278cc"
      },
      "execution_count": null,
      "outputs": [
        {
          "output_type": "stream",
          "name": "stdout",
          "text": [
            "Halo nama saya assyarifah sekar wahyu azkya . berat badan saya 45 kg.\n"
          ]
        }
      ]
    },
    {
      "cell_type": "code",
      "source": [
        "print(\"Halo nama saya \"+ nama+\". berat badan saya \"+str(beratbadan)+\" kg.\")"
      ],
      "metadata": {
        "colab": {
          "base_uri": "https://localhost:8080/"
        },
        "id": "6CdhUQ3vmLH4",
        "outputId": "719b6035-632f-435f-da98-d753dbd02f9b"
      },
      "execution_count": null,
      "outputs": [
        {
          "output_type": "stream",
          "name": "stdout",
          "text": [
            "Halo nama saya assyarifah sekar wahyu azkya. berat badan saya 45 kg.\n"
          ]
        }
      ]
    },
    {
      "cell_type": "code",
      "source": [
        "print(f\"Halo nama saya {nama}. berat badan saya {beratbadan} kg.\")"
      ],
      "metadata": {
        "colab": {
          "base_uri": "https://localhost:8080/"
        },
        "id": "zL-i3ohSmzhf",
        "outputId": "bdb50199-a847-4e1b-8dcf-e8be4534fc02"
      },
      "execution_count": null,
      "outputs": [
        {
          "output_type": "stream",
          "name": "stdout",
          "text": [
            "Halo nama saya assyarifah sekar wahyu azkya. berat badan saya 45 kg.\n"
          ]
        }
      ]
    },
    {
      "cell_type": "markdown",
      "source": [
        "#4. escape charakter"
      ],
      "metadata": {
        "id": "gN3LERyYqTAi"
      }
    },
    {
      "cell_type": "code",
      "source": [
        "print(\"nama: assyarifah sekar wahyu azkya\")\n",
        "print(\"kelas: x.5\")\n",
        "print(\"no.absen: 09\")"
      ],
      "metadata": {
        "colab": {
          "base_uri": "https://localhost:8080/"
        },
        "id": "YFCQkcnxqaiS",
        "outputId": "cdbb336f-1000-458a-91cb-01252202772b"
      },
      "execution_count": null,
      "outputs": [
        {
          "output_type": "stream",
          "name": "stdout",
          "text": [
            "nama: assyarifah sekar wahyu azkya\n",
            "kelas: x.5\n",
            "no.absen: 09\n"
          ]
        }
      ]
    },
    {
      "cell_type": "code",
      "source": [
        "print(\"nama: assyarifah sekar wahyu azkya\\nkelas: x.t\\nno.absen: 09\")"
      ],
      "metadata": {
        "colab": {
          "base_uri": "https://localhost:8080/"
        },
        "id": "aORe6tZOq4Br",
        "outputId": "2783e911-04c7-4da4-f212-9ab39ac3a9ae"
      },
      "execution_count": null,
      "outputs": [
        {
          "output_type": "stream",
          "name": "stdout",
          "text": [
            "nama: assyarifah sekar wahyu azkya\n",
            "kelas: x.t\n",
            "no.absen: 09\n"
          ]
        }
      ]
    },
    {
      "cell_type": "code",
      "source": [
        "print(\"\"\"nama: assyarifah sekar wahyu azkya\n",
        "kelas: x.5\n",
        "no.absen: 09\"\"\")"
      ],
      "metadata": {
        "colab": {
          "base_uri": "https://localhost:8080/"
        },
        "id": "oEf9zU1-NYwf",
        "outputId": "0b4a3d13-6301-4be9-d102-4294ec865de1"
      },
      "execution_count": null,
      "outputs": [
        {
          "output_type": "stream",
          "name": "stdout",
          "text": [
            "nama: assyarifah sekar wahyu azkya\n",
            "kelas: x.5\n",
            "no.absen: 09\n"
          ]
        }
      ]
    },
    {
      "cell_type": "code",
      "source": [
        "print(\"Nama Saya Ja\\'far Shodiq\")"
      ],
      "metadata": {
        "colab": {
          "base_uri": "https://localhost:8080/"
        },
        "id": "J4lf8VvFhn5x",
        "outputId": "0c75ae0b-1f19-4d80-f5a9-049059ab6969"
      },
      "execution_count": null,
      "outputs": [
        {
          "output_type": "stream",
          "name": "stdout",
          "text": [
            "Nama Saya Ja'far Shodiq\n"
          ]
        }
      ]
    },
    {
      "cell_type": "code",
      "source": [
        "print(\"Nama Saya Ja'far Shodiq\")"
      ],
      "metadata": {
        "colab": {
          "base_uri": "https://localhost:8080/"
        },
        "id": "W03jDFLSiBlE",
        "outputId": "08b66eae-519a-4545-b4da-4defc1d707a4"
      },
      "execution_count": null,
      "outputs": [
        {
          "output_type": "stream",
          "name": "stdout",
          "text": [
            "Nama Saya Ja'far Shodiq\n"
          ]
        }
      ]
    },
    {
      "cell_type": "code",
      "source": [
        "print(\"Nama Saya Ja\\'far Shodiq\")"
      ],
      "metadata": {
        "colab": {
          "base_uri": "https://localhost:8080/"
        },
        "id": "6kBUTY1miGqF",
        "outputId": "7d8a0f73-c80d-434b-aec5-568197d8b2ea"
      },
      "execution_count": null,
      "outputs": [
        {
          "output_type": "stream",
          "name": "stdout",
          "text": [
            "Nama Saya Ja'far Shodiq\n"
          ]
        }
      ]
    },
    {
      "cell_type": "code",
      "source": [
        "print('Bu Shinta berkata, \"Tolong perhatikan TV dan Saya.\"')"
      ],
      "metadata": {
        "colab": {
          "base_uri": "https://localhost:8080/"
        },
        "id": "sDgG-5f5iLjt",
        "outputId": "21c15fbc-dd1d-4900-b80c-767cbaec68cb"
      },
      "execution_count": null,
      "outputs": [
        {
          "output_type": "stream",
          "name": "stdout",
          "text": [
            "Bu Shinta berkata, \"Tolong perhatikan TV dan Saya.\"\n"
          ]
        }
      ]
    },
    {
      "cell_type": "code",
      "source": [
        "print(\"Bu Shinta berkata, \\\"Tolong perhatikan TV dan Saya.\\\"\")"
      ],
      "metadata": {
        "colab": {
          "base_uri": "https://localhost:8080/"
        },
        "id": "eCJ0kzDGiUa7",
        "outputId": "dd297838-3be6-4142-b76b-3e48ce3d898d"
      },
      "execution_count": null,
      "outputs": [
        {
          "output_type": "stream",
          "name": "stdout",
          "text": [
            "Bu Shinta berkata, \"Tolong perhatikan TV dan Saya.\"\n"
          ]
        }
      ]
    },
    {
      "cell_type": "code",
      "source": [
        "print(\"Lokasi file tugas KKA adalah di Local Disk C:\\\\KKA\\\\Tugas\")"
      ],
      "metadata": {
        "colab": {
          "base_uri": "https://localhost:8080/"
        },
        "id": "KZnmZWpjiYGI",
        "outputId": "60ef059e-de53-4fb7-ddca-d30813473fff"
      },
      "execution_count": null,
      "outputs": [
        {
          "output_type": "stream",
          "name": "stdout",
          "text": [
            "Lokasi file tugas KKA adalah di Local Disk C:\\KKA\\Tugas\n"
          ]
        }
      ]
    }
  ]
}